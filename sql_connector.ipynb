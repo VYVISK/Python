{
 "cells": [
  {
   "cell_type": "code",
   "execution_count": 2,
   "metadata": {},
   "outputs": [],
   "source": [
    "# Import Libraries\n",
    "import mysql.connector\n",
    "import pandas as pd\n",
    "from mysql.connector import Error\n"
   ]
  },
  {
   "cell_type": "code",
   "execution_count": 3,
   "metadata": {},
   "outputs": [],
   "source": [
    "def create_server_connection(host_name, user_name, user_password):\n",
    "    connection = None\n",
    "    try:\n",
    "        connection = mysql.connector.connect(\n",
    "            host=host_name,\n",
    "            user=user_name,\n",
    "            passwd=user_password\n",
    "        )\n",
    "        print(\"MySQL Database connection successful\")\n",
    "    except Error as err:\n",
    "        print(f\"Error: '{err}'\")\n",
    "    return connection\n"
   ]
  },
  {
   "cell_type": "code",
   "execution_count": 4,
   "metadata": {},
   "outputs": [
    {
     "name": "stdout",
     "output_type": "stream",
     "text": [
      "MySQL Database connection successful\n"
     ]
    }
   ],
   "source": [
    "#Put our MySQL Terminal password\n",
    "pw = \"vyvi1234\"\n",
    "# Database name\n",
    "db = \"mysql_python\"\n",
    "connection = create_server_connection(\"localhost\", \"root\", pw)"
   ]
  },
  {
   "cell_type": "code",
   "execution_count": 5,
   "metadata": {},
   "outputs": [
    {
     "name": "stdout",
     "output_type": "stream",
     "text": [
      "Error : '1007 (HY000): Can't create database 'mysql_python'; database exists'\n"
     ]
    }
   ],
   "source": [
    "#create mysql_python\n",
    "\n",
    "def create_database(connection, query):\n",
    "    cursor = connection.cursor() #used to execute statements to connect to database. \n",
    "    try:\n",
    "        cursor.execute(query)\n",
    "        print(\"Database created successfully\")\n",
    "    except Error as err:\n",
    "\t    print(f\"Error : '{err}'\")\n",
    "\n",
    "create_database_query = \"CREATE DATABASE mysql_python\"\n",
    "create_database(connection, create_database_query)\n"
   ]
  },
  {
   "cell_type": "code",
   "execution_count": 6,
   "metadata": {},
   "outputs": [],
   "source": [
    "#connect to database\n",
    "\n",
    "def create_db_connection(host_name, user_name, user_password, db_name):\n",
    "   connection = None\n",
    "   try:\n",
    "       connection = mysql.connector.connect(\n",
    "       host = host_name,\n",
    "       user = user_name,\n",
    "       passwd = user_password,\n",
    "       database = db_name)\n",
    "       print(\"MySql database connection successful\")\n",
    "   except Error as err:\n",
    "      print(f\"Error: '{err}'\")\n",
    "   return connection"
   ]
  },
  {
   "cell_type": "code",
   "execution_count": 7,
   "metadata": {},
   "outputs": [],
   "source": [
    "#execute sql queries\n",
    "\n",
    "def execute_query(connection, query):\n",
    "   cursor = connection.cursor()\n",
    "   try:\n",
    "       cursor.execute(query)\n",
    "       connection.commit() #change made are consistent\n",
    "       print(\"Query was successful\")\n",
    "   except Error as err:\n",
    "       print(f\"Error : '{err}'\")"
   ]
  },
  {
   "cell_type": "code",
   "execution_count": 8,
   "metadata": {},
   "outputs": [
    {
     "name": "stdout",
     "output_type": "stream",
     "text": [
      "MySql database connection successful\n",
      "Error : '1050 (42S01): Table 'user_password' already exists'\n"
     ]
    }
   ],
   "source": [
    "Username_password_table = \"\"\"\n",
    "CREATE TABLE USER_PASSWORD(\n",
    "username varchar(255),\n",
    "password varchar(255)\n",
    ");\"\"\"\n",
    "\n",
    "connection = create_db_connection('localhost','root',pw,db)\n",
    "execute_query(connection,Username_password_table)"
   ]
  },
  {
   "cell_type": "code",
   "execution_count": 9,
   "metadata": {},
   "outputs": [
    {
     "name": "stdout",
     "output_type": "stream",
     "text": [
      "MySql database connection successful\n",
      "Error : '1062 (23000): Duplicate entry 'sreekku' for key 'user_password.PRIMARY''\n"
     ]
    }
   ],
   "source": [
    "#insert data \n",
    "\n",
    "data_orders = \"\"\"\n",
    "INSERT INTO USER_PASSWORD VALUES\n",
    "('sreekku','12345678'),\n",
    "('vyvi','87654321');\"\"\"\n",
    "\n",
    "connection = create_db_connection('localhost','root',pw,db)\n",
    "execute_query(connection,data_orders)"
   ]
  },
  {
   "cell_type": "code",
   "execution_count": 10,
   "metadata": {},
   "outputs": [],
   "source": [
    "def read_query(connection, query):\n",
    "    cursor = connection.cursor()\n",
    "    result = None\n",
    "    try:\n",
    "        cursor.execute(query)\n",
    "        result = cursor.fetchall()\n",
    "        return result\n",
    "    except Error as err:\n",
    "        print(f\"Error : '{err}'\")"
   ]
  },
  {
   "cell_type": "code",
   "execution_count": 11,
   "metadata": {},
   "outputs": [
    {
     "name": "stdout",
     "output_type": "stream",
     "text": [
      "MySql database connection successful\n",
      "[('sreekku', '12345678'), ('vyvi', '87654321')]\n"
     ]
    }
   ],
   "source": [
    "#using the select table\n",
    "\n",
    "q1 = \"\"\"SELECT * FROM USER_PASSWORD;\"\"\"\n",
    "\n",
    "connection = create_db_connection('localhost','root',pw,db)\n",
    "\n",
    "results = read_query(connection,q1)\n",
    "\n",
    "print(results)"
   ]
  },
  {
   "cell_type": "code",
   "execution_count": 12,
   "metadata": {},
   "outputs": [
    {
     "name": "stdout",
     "output_type": "stream",
     "text": [
      "Error : '1068 (42000): Multiple primary key defined'\n"
     ]
    }
   ],
   "source": [
    "q2 = \"\"\"ALTER TABLE USER_PASSWORD\n",
    "ADD PRIMARY KEY (username);\"\"\"\n",
    "execute_query(connection,q2)"
   ]
  },
  {
   "cell_type": "code",
   "execution_count": 13,
   "metadata": {},
   "outputs": [
    {
     "name": "stdout",
     "output_type": "stream",
     "text": [
      "Query was successful\n"
     ]
    }
   ],
   "source": [
    "q3 = \"\"\"DROP TABLE USER_PASSWORD;\"\"\"\n",
    "execute_query(connection,q3)"
   ]
  }
 ],
 "metadata": {
  "kernelspec": {
   "display_name": "Python 3",
   "language": "python",
   "name": "python3"
  },
  "language_info": {
   "codemirror_mode": {
    "name": "ipython",
    "version": 3
   },
   "file_extension": ".py",
   "mimetype": "text/x-python",
   "name": "python",
   "nbconvert_exporter": "python",
   "pygments_lexer": "ipython3",
   "version": "3.10.10"
  }
 },
 "nbformat": 4,
 "nbformat_minor": 2
}
